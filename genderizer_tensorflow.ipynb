{
  "nbformat": 4,
  "nbformat_minor": 0,
  "metadata": {
    "colab": {
      "provenance": [],
      "toc_visible": true,
      "mount_file_id": "15ynWgPPd57A_714b7x49KnBRMlzziQJV",
      "authorship_tag": "ABX9TyOQMjq1lc0XgQJVWCYQZUdK",
      "include_colab_link": true
    },
    "kernelspec": {
      "name": "python3",
      "display_name": "Python 3"
    },
    "language_info": {
      "name": "python"
    }
  },
  "cells": [
    {
      "cell_type": "markdown",
      "metadata": {
        "id": "view-in-github",
        "colab_type": "text"
      },
      "source": [
        "<a href=\"https://colab.research.google.com/github/ccnmagnoo/colabs/blob/main/genderizer_tensorflow.ipynb\" target=\"_parent\"><img src=\"https://colab.research.google.com/assets/colab-badge.svg\" alt=\"Open In Colab\"/></a>"
      ]
    },
    {
      "cell_type": "markdown",
      "source": [
        "# Training Model for name Gender analizer.\n",
        "## using tensorflow\n",
        "\n",
        "Version 2,\n",
        "- restricted just single chart analizer.\n",
        "- restricted char list key normalizer.\n",
        "- input size restricter to 20 string size\n",
        "- keras includes RELU transform.\n",
        "400 epocs, and 95% accuracy, but must be at least 99%,\n",
        "probably requires a bigger source for modeling,"
      ],
      "metadata": {
        "id": "NL7sMjXHlb_1"
      }
    },
    {
      "cell_type": "code",
      "execution_count": null,
      "metadata": {
        "id": "iHrzn6VHnL2O"
      },
      "outputs": [],
      "source": [
        "import json\n",
        "import urllib\n",
        "import requests\n",
        "import numpy as np\n",
        "import tensorflow as tf"
      ]
    },
    {
      "cell_type": "markdown",
      "source": [
        "# Loading Data"
      ],
      "metadata": {
        "id": "aK7CBRKUXpwK"
      }
    },
    {
      "cell_type": "code",
      "source": [
        "#Fetching data\n",
        "\n",
        "##Conecction\n",
        "headers = {\n",
        "    'X-Parse-Application-Id': 'zsSkPsDYTc2hmphLjjs9hz2Q3EXmnSxUyXnouj1I', # This is the fake app's application id\n",
        "    'X-Parse-Master-Key': '4LuCXgPPXXO2sU5cXm6WwpwzaKyZpo3Wpj4G4xXK' # This is the fake app's readonly master key\n",
        "}\n",
        "\n",
        "def fetchUrl(skip:int,limit:int):\n",
        "  url ='https://parseapi.back4app.com/classes/NamesList?skip='+ str(skip)+'&limit='+ str(limit)+'&order=Name&excludeKeys=Letter'\n",
        "  data = json.loads(requests.get(url, headers=headers).content.decode('utf-8')) # Here you have the data that you need\n",
        "  return data['results']\n",
        "\n",
        "##Creating skip walkpath\n",
        "step=100 # @param {type:\"number\"}\n",
        "limit=6000 # @param {type:\"number\"}\n",
        "walkpath = np.array(range(0,limit,step))\n",
        "## mapping fetching\n",
        "data = np.array(list(map(fetchUrl,walkpath,[limit]))).flatten()\n",
        "\n",
        "##fetching names\n",
        "nameList = list(map(lambda item:item['Name'],data))\n",
        "genderList = list(map(lambda item:item['Genre'],data))\n",
        "print(f\"number of names in source database: {len(nameList)}\")"
      ],
      "metadata": {
        "id": "68bm6-o8n3f1",
        "colab": {
          "base_uri": "https://localhost:8080/"
        },
        "outputId": "41efd48d-1688-41fd-8853-9ec176e4746a"
      },
      "execution_count": null,
      "outputs": [
        {
          "output_type": "stream",
          "name": "stdout",
          "text": [
            "number of names in source database: 6000\n"
          ]
        }
      ]
    },
    {
      "cell_type": "markdown",
      "source": [
        "## Pre-procesing data"
      ],
      "metadata": {
        "id": "YUstA-VOYVCC"
      }
    },
    {
      "cell_type": "code",
      "source": [
        "from typing_extensions import LiteralString\n",
        "from typing import Union, List\n",
        "##Normalizing list for Machine Learning with values between 0 and 1\n",
        "\n",
        "###Genre\n",
        "def genreNormalizer(genre:str)->int:\n",
        "  if genre == 'female':\n",
        "    x = 1\n",
        "  else:\n",
        "    x = 0\n",
        "  return x\n",
        "\n",
        "genderTensorList = list(map(genreNormalizer,genderList))\n",
        "\n",
        "###Names\n",
        "#return array float size 20\n",
        "CHARS:List[str] = list('aábcdeéfghiíjklmnñoópqrstuúvwxyz ')\n",
        "\n",
        "BOX_SIZE = 20 # @param {type:\"slider\", min:20, max:40, step:1}\n",
        "def nameNormalizer(name:str)->List[float]:\n",
        "  splitedName = list(name.lower()) # Carlos -> [c,a,r,l,o,s]\n",
        "  descriteName = list(map(lambda char:CHARS.index(char)/len(CHARS),splitedName)) #[c,a,r,l,o,s]->[3,1,..] indexation\n",
        "  box = [0.0]*(BOX_SIZE-len(descriteName)) # content into a 20 size box [0.0 ,0.0 ..,3,1,..]\n",
        "  input = np.concatenate((np.array(box),np.array(descriteName)))\n",
        "  return list(input.flatten())\n",
        "\n",
        "nameTensorList = list(map(nameNormalizer,nameList))"
      ],
      "metadata": {
        "id": "3Ow0ZBPv8X6O"
      },
      "execution_count": null,
      "outputs": []
    },
    {
      "cell_type": "markdown",
      "source": [
        "## Config Neuronal Nextwork\n"
      ],
      "metadata": {
        "id": "_1JctO4lXdtd"
      }
    },
    {
      "cell_type": "code",
      "source": [
        "# @title model configuration\n",
        "model = tf.keras.Sequential([\n",
        "  tf.keras.layers.Flatten(input_shape=(BOX_SIZE,1)),\n",
        "  tf.keras.layers.Dense(80,activation='relu'),\n",
        "  tf.keras.layers.Dense(80,activation='relu'),\n",
        "  tf.keras.layers.Dense(80,activation='relu'),\n",
        "  tf.keras.layers.Dense(2,activation='softmax'),\n",
        "])"
      ],
      "metadata": {
        "id": "GFGUrIFzX5LQ"
      },
      "execution_count": null,
      "outputs": []
    },
    {
      "cell_type": "code",
      "source": [
        "#model compiling\n",
        "model.compile(\n",
        "    optimizer='adam',\n",
        "    loss='sparse_categorical_crossentropy',\n",
        "    metrics=['accuracy']\n",
        ")\n"
      ],
      "metadata": {
        "id": "wxtM_KS5ah-T"
      },
      "execution_count": null,
      "outputs": []
    },
    {
      "cell_type": "code",
      "source": [
        "# @title Training model\n",
        "EPOCHS = 400 # @param {type:\"slider\", min:100, max:400, step:25}\n",
        "modeling = model.fit(nameTensorList,genderTensorList,epochs=400,verbose=False)"
      ],
      "metadata": {
        "id": "QYL8lHhWbMCy"
      },
      "execution_count": null,
      "outputs": []
    },
    {
      "cell_type": "code",
      "source": [
        "import matplotlib.pyplot as plt\n",
        "plt.xlabel('Epochs')\n",
        "plt.ylabel('Loss')\n",
        "plt.plot(modeling.history['loss'])\n",
        "\n",
        "test_loss, test_acc = model.evaluate(nameTensorList,  genderTensorList, verbose=2)\n",
        "\n",
        "print('\\nTest accuracy:', test_acc)"
      ],
      "metadata": {
        "colab": {
          "base_uri": "https://localhost:8080/",
          "height": 505
        },
        "id": "UekgDrNCcR-v",
        "outputId": "23720fd9-d386-45d6-de7e-7cbae15bfcb3"
      },
      "execution_count": null,
      "outputs": [
        {
          "output_type": "stream",
          "name": "stdout",
          "text": [
            "188/188 - 0s - loss: 0.1202 - accuracy: 0.9562 - 399ms/epoch - 2ms/step\n",
            "\n",
            "Test accuracy: 0.956166684627533\n"
          ]
        },
        {
          "output_type": "display_data",
          "data": {
            "text/plain": [
              "<Figure size 640x480 with 1 Axes>"
            ],
            "image/png": "[encoded data removed]"
          },
          "metadata": {}
        }
      ]
    },
    {
      "cell_type": "code",
      "source": [
        "# Unit test\n",
        "def genderProbability(name:str):\n",
        "  gender = ['male','female']\n",
        "  input = nameNormalizer(name)\n",
        "  prediction = model.predict([input])[0]\n",
        "  category = gender[np.argmax(prediction)]\n",
        "\n",
        "  return (category,str(round(np.max(prediction)*100,2))+'%')\n",
        "\n",
        "print(genderProbability('Melanie'))"
      ],
      "metadata": {
        "colab": {
          "base_uri": "https://localhost:8080/"
        },
        "id": "7he4_eTVfhIo",
        "outputId": "50102c30-3dfd-47bb-f5ab-a2acd631f288"
      },
      "execution_count": null,
      "outputs": [
        {
          "output_type": "stream",
          "name": "stdout",
          "text": [
            "1/1 [==============================] - 0s 147ms/step\n",
            "('female', '99.99%')\n"
          ]
        }
      ]
    },
    {
      "cell_type": "code",
      "source": [
        "# @title store h5 keras model\n",
        "# @markdown select output h5 filename\n",
        "FILENAME = 'keras_genderizer_model_v2' # @param {type:\"string\"}\n",
        "keras_model_path = f'/content/drive/MyDrive/MinEnergia/99.Data/GenderEquality/{FILENAME}.h5'\n",
        "model.save(keras_model_path)\n",
        "# to reload your model\n",
        "#model = keras.models.load_model(saved_model_path)"
      ],
      "metadata": {
        "id": "Xg5r2ARGRQS2"
      },
      "execution_count": null,
      "outputs": []
    }
  ]
}